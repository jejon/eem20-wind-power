{
 "cells": [
  {
   "cell_type": "code",
   "execution_count": 1,
   "metadata": {},
   "outputs": [],
   "source": [
    "import xarray as xr\n",
    "from pathlib import Path\n",
    "import sys\n",
    "\n",
    "DIRPATH= str(Path.cwd().parents[1])\n",
    "\n",
    "module_path = DIRPATH + \"/src\"\n",
    "if module_path not in sys.path:\n",
    "    sys.path.append(module_path)\n",
    "from utils.eem2020 import load_NWP, load_wind_power, load_max_power, load_turbine_map, load_wind_power_TS, load_wind_turbines"
   ]
  },
  {
   "cell_type": "code",
   "execution_count": 2,
   "metadata": {},
   "outputs": [],
   "source": [
    "NWP_data = xr.open_dataset(DIRPATH + \"/data/eem20/processed/EEM2020_2000.nc\")\n",
    "NWP_data = NWP_data.combine_first(xr.open_dataset(DIRPATH + \"/data/eem20/processed/EEM2020_task1.nc\"))\n",
    "NWP_data = NWP_data.combine_first(xr.open_dataset(DIRPATH + \"/data/eem20/processed/EEM2020_task2.nc\"))\n",
    "NWP_data = NWP_data.combine_first(xr.open_dataset(DIRPATH + \"/data/eem20/processed/EEM2020_task3.nc\"))"
   ]
  },
  {
   "cell_type": "code",
   "execution_count": 3,
   "metadata": {},
   "outputs": [],
   "source": [
    "NWP_data.to_netcdf(DIRPATH + \"/data/eem20/processed/EEM2020_tilltask3.nc\")"
   ]
  },
  {
   "cell_type": "code",
   "execution_count": null,
   "metadata": {},
   "outputs": [],
   "source": [
    "NWP_data = NWP_data.combine_first(xr.open_dataset(DIRPATH + \"/data/eem20/processed/EEM2020_task4.nc\"))"
   ]
  },
  {
   "cell_type": "code",
   "execution_count": null,
   "metadata": {},
   "outputs": [],
   "source": [
    "NWP_data.to_netcdf(DIRPATH + \"/data/eem20/processed/EEM2020_tilltask4.nc\")"
   ]
  },
  {
   "cell_type": "code",
   "execution_count": null,
   "metadata": {},
   "outputs": [],
   "source": [
    "NWP_data = NWP_data.combine_first(xr.open_dataset(DIRPATH + \"/data/eem20/processed/EEM2020_task5.nc\"))"
   ]
  },
  {
   "cell_type": "code",
   "execution_count": null,
   "metadata": {},
   "outputs": [],
   "source": [
    "NWP_data.to_netcdf(DIRPATH + \"/data/eem20/processed/EEM2020_tilltask5.nc\")"
   ]
  },
  {
   "cell_type": "code",
   "execution_count": null,
   "metadata": {},
   "outputs": [],
   "source": [
    "NWP_data = NWP_data.combine_first(xr.open_dataset(DIRPATH + \"/data/eem20/processed/EEM2020_task6.nc\"))"
   ]
  },
  {
   "cell_type": "code",
   "execution_count": null,
   "metadata": {},
   "outputs": [],
   "source": [
    "NWP_data.to_netcdf(DIRPATH + \"/data/eem20/processed/EEM2020_tilltask6.nc\")"
   ]
  },
  {
   "cell_type": "code",
   "execution_count": null,
   "metadata": {},
   "outputs": [],
   "source": []
  }
 ],
 "metadata": {
  "kernelspec": {
   "display_name": "project-wind",
   "language": "python",
   "name": "python3"
  },
  "language_info": {
   "codemirror_mode": {
    "name": "ipython",
    "version": 3
   },
   "file_extension": ".py",
   "mimetype": "text/x-python",
   "name": "python",
   "nbconvert_exporter": "python",
   "pygments_lexer": "ipython3",
   "version": "3.10.6 (main, Oct  7 2022, 15:17:36) [Clang 12.0.0 ]"
  },
  "orig_nbformat": 4,
  "vscode": {
   "interpreter": {
    "hash": "b9a53d7bcb6038c538d519d977dd40ed4daa863b08db495a1e35775fda4b039e"
   }
  }
 },
 "nbformat": 4,
 "nbformat_minor": 2
}
